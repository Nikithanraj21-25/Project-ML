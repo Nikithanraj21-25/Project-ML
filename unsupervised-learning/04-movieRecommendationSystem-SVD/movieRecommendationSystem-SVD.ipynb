{
  "nbformat": 4,
  "nbformat_minor": 0,
  "metadata": {
    "colab": {
      "provenance": []
    },
    "kernelspec": {
      "name": "python3",
      "display_name": "Python 3"
    },
    "language_info": {
      "name": "python"
    }
  },
  "cells": [
    {
      "cell_type": "markdown",
      "source": [
        "# **Movie Recommendation System Using Singular Value Decomposition(SVD)**"
      ],
      "metadata": {
        "id": "_zFcoIaRfFMR"
      }
    },
    {
      "cell_type": "markdown",
      "source": [
        "## **Importing Libraries**"
      ],
      "metadata": {
        "id": "IFZgYg7cThU9"
      }
    },
    {
      "cell_type": "code",
      "execution_count": null,
      "metadata": {
        "id": "xgu1Wtq3Q_Xy"
      },
      "outputs": [],
      "source": [
        "import numpy as np\n",
        "import pandas as pd"
      ]
    },
    {
      "cell_type": "markdown",
      "source": [
        "## **Importing & Parsing the Dataset as Ratings and Movies Details**"
      ],
      "metadata": {
        "id": "c_kY4Yj4TpEh"
      }
    },
    {
      "cell_type": "code",
      "source": [
        "ratingData = pd.io.parsers.read_csv('ratings.dat',\n",
        "    names=['user_id', 'movie_id', 'rating', 'time'],\n",
        "    engine='python', delimiter='::')\n",
        "movieData = pd.io.parsers.read_csv('movies.dat',\n",
        "    names=['movie_id', 'title', 'genre'],\n",
        "    engine='python', delimiter='::', encoding='latin1')\n",
        "print(ratingData.head(5))\n",
        "print(movieData.head(5))"
      ],
      "metadata": {
        "id": "XKk-NRr_RElQ"
      },
      "execution_count": null,
      "outputs": []
    },
    {
      "cell_type": "markdown",
      "source": [
        "## **Create the Rating Matrix of shape (m x u)**"
      ],
      "metadata": {
        "id": "Zir2S5p8T6fb"
      }
    },
    {
      "cell_type": "code",
      "source": [
        "# Check for NaN values\n",
        "print(ratingData.isnull().sum())\n",
        "\n",
        "# Check for negative values\n",
        "print((ratingData['movie_id'] < 0).sum())\n",
        "print((ratingData['user_id'] < 0).sum())\n",
        "\n",
        "print(np.max(ratingData.movie_id.values))\n",
        "print(np.max(ratingData.user_id.values))\n",
        "\n",
        "# Drop rows with NaN values\n",
        "ratingData = ratingData.dropna()\n",
        "\n",
        "# Ensure there are no negative values (if there are, you should investigate the data source)\n",
        "ratingData = ratingData[(ratingData['movie_id'] > 0) & (ratingData['user_id'] > 0)]\n",
        "\n",
        "print(np.max(ratingData.movie_id.values))\n",
        "print(np.max(ratingData.user_id.values))\n",
        "\n",
        "ratingMatrix = np.ndarray(\n",
        "    shape =(np.max(ratingData.movie_id.values).astype(int), np.max(ratingData.user_id.values).astype(int)),\n",
        "    dtype = np.uint8)\n",
        "\n",
        "ratingMatrix[ratingData.movie_id.values-1, ratingData.user_id.values-1] = ratingData.rating.values\n",
        "\n",
        "print(ratingMatrix)"
      ],
      "metadata": {
        "id": "IjqSa9KGSNdp"
      },
      "execution_count": null,
      "outputs": []
    },
    {
      "cell_type": "markdown",
      "source": [
        "## **Subtract Mean off - Normalization**"
      ],
      "metadata": {
        "id": "9cOqOcUjaLc4"
      }
    },
    {
      "cell_type": "code",
      "source": [
        "normalizedMatrix = ratingMatrix - np.asarray([(np.mean(ratingMatrix, 1))]).T\n",
        "print(normalizedMatrix)"
      ],
      "metadata": {
        "id": "1gXGfotqZtnB"
      },
      "execution_count": null,
      "outputs": []
    },
    {
      "cell_type": "markdown",
      "source": [
        "## **Computing SVD**"
      ],
      "metadata": {
        "id": "tpp1ONF5a9Ii"
      }
    },
    {
      "cell_type": "code",
      "source": [
        "A = normalizedMatrix.T / np.sqrt(ratingMatrix.shape[0] - 1)\n",
        "U, S, V = np.linalg.svd(A)"
      ],
      "metadata": {
        "id": "3GRXMWXza8i5"
      },
      "execution_count": null,
      "outputs": []
    },
    {
      "cell_type": "markdown",
      "source": [
        "## **Calculate Cosine Similarity, Sort by most Similar and return the Top N**"
      ],
      "metadata": {
        "id": "rRhrXixXdGBE"
      }
    },
    {
      "cell_type": "code",
      "source": [
        "def similar(ratingData, movie_id, top_n):\n",
        "  index = movie_id - 1\n",
        "  movie_row = ratingData[index, :]\n",
        "  magnitude = np.sqrt(np.einsum('ij, ij -> i', ratingData, ratingData)) #Einstein Summation | tradition Matrix multiplication and is equivalent to np.matmul(a,b)\n",
        "  similarity = np.dot(movie_row, ratingData.T) / (magnitude[index] * magnitude)\n",
        "  sort_indexes = np.argsort(-similarity) #Perform an indirect sort along the given axis (Last axis)\n",
        "  return sort_indexes[:top_n]"
      ],
      "metadata": {
        "id": "At3FVtUzbmsV"
      },
      "execution_count": null,
      "outputs": []
    },
    {
      "cell_type": "markdown",
      "source": [
        "## **Select k principal components to Represent the Movies**\n",
        "## **movie_id to find Recommendations**\n",
        "## **top_n to print Top Results**"
      ],
      "metadata": {
        "id": "5Y12xfWIdRgy"
      }
    },
    {
      "cell_type": "code",
      "source": [
        "k = 50\n",
        "movie_id = 2\n",
        "top_n = 15\n",
        "\n",
        "sliced = V.T[:, :k]\n",
        "# print(sliced)\n",
        "indexes = similar(sliced, movie_id, top_n)\n",
        "\n",
        "print('Recommendations for Movie {0}: \\n'.format(\n",
        " movieData[movieData.movie_id == movie_id].title.values[0]))\n",
        "for id in indexes + 1:\n",
        "  print(movieData[movieData.movie_id == id].title.values[0])\n"
      ],
      "metadata": {
        "id": "ngcbIXMrdR9V"
      },
      "execution_count": null,
      "outputs": []
    }
  ]
}