{
  "nbformat": 4,
  "nbformat_minor": 0,
  "metadata": {
    "colab": {
      "provenance": []
    },
    "kernelspec": {
      "name": "python3",
      "display_name": "Python 3"
    },
    "language_info": {
      "name": "python"
    }
  },
  "cells": [
    {
      "cell_type": "markdown",
      "source": [
        "# **Sales Prediction based on Age and Salary**"
      ],
      "metadata": {
        "id": "Dz_S9ZNtyVIh"
      }
    },
    {
      "cell_type": "markdown",
      "source": [
        "## **Importing Libraries**"
      ],
      "metadata": {
        "id": "CuOEcY2Pcbj_"
      }
    },
    {
      "cell_type": "code",
      "execution_count": 7,
      "metadata": {
        "id": "DqbF9ifwT6nZ"
      },
      "outputs": [],
      "source": [
        "import pandas as pd #useful for loading dataset\n",
        "import numpy as np #to perform array operation"
      ]
    },
    {
      "cell_type": "markdown",
      "source": [
        "## **Choose Dataset file from Local Directory**\n"
      ],
      "metadata": {
        "id": "JBgovlPdc292"
      }
    },
    {
      "cell_type": "code",
      "source": [
        "from google.colab import files\n",
        "uploaded = files.upload()"
      ],
      "metadata": {
        "id": "75eWDX8OdRnz",
        "colab": {
          "base_uri": "https://localhost:8080/",
          "height": 73
        },
        "outputId": "1f80b63b-72a9-4110-e9d0-0478239355bd"
      },
      "execution_count": 8,
      "outputs": [
        {
          "output_type": "display_data",
          "data": {
            "text/plain": [
              "<IPython.core.display.HTML object>"
            ],
            "text/html": [
              "\n",
              "     <input type=\"file\" id=\"files-00257a0a-11f6-48eb-9023-a57a5589e96c\" name=\"files[]\" multiple disabled\n",
              "        style=\"border:none\" />\n",
              "     <output id=\"result-00257a0a-11f6-48eb-9023-a57a5589e96c\">\n",
              "      Upload widget is only available when the cell has been executed in the\n",
              "      current browser session. Please rerun this cell to enable.\n",
              "      </output>\n",
              "      <script>// Copyright 2017 Google LLC\n",
              "//\n",
              "// Licensed under the Apache License, Version 2.0 (the \"License\");\n",
              "// you may not use this file except in compliance with the License.\n",
              "// You may obtain a copy of the License at\n",
              "//\n",
              "//      http://www.apache.org/licenses/LICENSE-2.0\n",
              "//\n",
              "// Unless required by applicable law or agreed to in writing, software\n",
              "// distributed under the License is distributed on an \"AS IS\" BASIS,\n",
              "// WITHOUT WARRANTIES OR CONDITIONS OF ANY KIND, either express or implied.\n",
              "// See the License for the specific language governing permissions and\n",
              "// limitations under the License.\n",
              "\n",
              "/**\n",
              " * @fileoverview Helpers for google.colab Python module.\n",
              " */\n",
              "(function(scope) {\n",
              "function span(text, styleAttributes = {}) {\n",
              "  const element = document.createElement('span');\n",
              "  element.textContent = text;\n",
              "  for (const key of Object.keys(styleAttributes)) {\n",
              "    element.style[key] = styleAttributes[key];\n",
              "  }\n",
              "  return element;\n",
              "}\n",
              "\n",
              "// Max number of bytes which will be uploaded at a time.\n",
              "const MAX_PAYLOAD_SIZE = 100 * 1024;\n",
              "\n",
              "function _uploadFiles(inputId, outputId) {\n",
              "  const steps = uploadFilesStep(inputId, outputId);\n",
              "  const outputElement = document.getElementById(outputId);\n",
              "  // Cache steps on the outputElement to make it available for the next call\n",
              "  // to uploadFilesContinue from Python.\n",
              "  outputElement.steps = steps;\n",
              "\n",
              "  return _uploadFilesContinue(outputId);\n",
              "}\n",
              "\n",
              "// This is roughly an async generator (not supported in the browser yet),\n",
              "// where there are multiple asynchronous steps and the Python side is going\n",
              "// to poll for completion of each step.\n",
              "// This uses a Promise to block the python side on completion of each step,\n",
              "// then passes the result of the previous step as the input to the next step.\n",
              "function _uploadFilesContinue(outputId) {\n",
              "  const outputElement = document.getElementById(outputId);\n",
              "  const steps = outputElement.steps;\n",
              "\n",
              "  const next = steps.next(outputElement.lastPromiseValue);\n",
              "  return Promise.resolve(next.value.promise).then((value) => {\n",
              "    // Cache the last promise value to make it available to the next\n",
              "    // step of the generator.\n",
              "    outputElement.lastPromiseValue = value;\n",
              "    return next.value.response;\n",
              "  });\n",
              "}\n",
              "\n",
              "/**\n",
              " * Generator function which is called between each async step of the upload\n",
              " * process.\n",
              " * @param {string} inputId Element ID of the input file picker element.\n",
              " * @param {string} outputId Element ID of the output display.\n",
              " * @return {!Iterable<!Object>} Iterable of next steps.\n",
              " */\n",
              "function* uploadFilesStep(inputId, outputId) {\n",
              "  const inputElement = document.getElementById(inputId);\n",
              "  inputElement.disabled = false;\n",
              "\n",
              "  const outputElement = document.getElementById(outputId);\n",
              "  outputElement.innerHTML = '';\n",
              "\n",
              "  const pickedPromise = new Promise((resolve) => {\n",
              "    inputElement.addEventListener('change', (e) => {\n",
              "      resolve(e.target.files);\n",
              "    });\n",
              "  });\n",
              "\n",
              "  const cancel = document.createElement('button');\n",
              "  inputElement.parentElement.appendChild(cancel);\n",
              "  cancel.textContent = 'Cancel upload';\n",
              "  const cancelPromise = new Promise((resolve) => {\n",
              "    cancel.onclick = () => {\n",
              "      resolve(null);\n",
              "    };\n",
              "  });\n",
              "\n",
              "  // Wait for the user to pick the files.\n",
              "  const files = yield {\n",
              "    promise: Promise.race([pickedPromise, cancelPromise]),\n",
              "    response: {\n",
              "      action: 'starting',\n",
              "    }\n",
              "  };\n",
              "\n",
              "  cancel.remove();\n",
              "\n",
              "  // Disable the input element since further picks are not allowed.\n",
              "  inputElement.disabled = true;\n",
              "\n",
              "  if (!files) {\n",
              "    return {\n",
              "      response: {\n",
              "        action: 'complete',\n",
              "      }\n",
              "    };\n",
              "  }\n",
              "\n",
              "  for (const file of files) {\n",
              "    const li = document.createElement('li');\n",
              "    li.append(span(file.name, {fontWeight: 'bold'}));\n",
              "    li.append(span(\n",
              "        `(${file.type || 'n/a'}) - ${file.size} bytes, ` +\n",
              "        `last modified: ${\n",
              "            file.lastModifiedDate ? file.lastModifiedDate.toLocaleDateString() :\n",
              "                                    'n/a'} - `));\n",
              "    const percent = span('0% done');\n",
              "    li.appendChild(percent);\n",
              "\n",
              "    outputElement.appendChild(li);\n",
              "\n",
              "    const fileDataPromise = new Promise((resolve) => {\n",
              "      const reader = new FileReader();\n",
              "      reader.onload = (e) => {\n",
              "        resolve(e.target.result);\n",
              "      };\n",
              "      reader.readAsArrayBuffer(file);\n",
              "    });\n",
              "    // Wait for the data to be ready.\n",
              "    let fileData = yield {\n",
              "      promise: fileDataPromise,\n",
              "      response: {\n",
              "        action: 'continue',\n",
              "      }\n",
              "    };\n",
              "\n",
              "    // Use a chunked sending to avoid message size limits. See b/62115660.\n",
              "    let position = 0;\n",
              "    do {\n",
              "      const length = Math.min(fileData.byteLength - position, MAX_PAYLOAD_SIZE);\n",
              "      const chunk = new Uint8Array(fileData, position, length);\n",
              "      position += length;\n",
              "\n",
              "      const base64 = btoa(String.fromCharCode.apply(null, chunk));\n",
              "      yield {\n",
              "        response: {\n",
              "          action: 'append',\n",
              "          file: file.name,\n",
              "          data: base64,\n",
              "        },\n",
              "      };\n",
              "\n",
              "      let percentDone = fileData.byteLength === 0 ?\n",
              "          100 :\n",
              "          Math.round((position / fileData.byteLength) * 100);\n",
              "      percent.textContent = `${percentDone}% done`;\n",
              "\n",
              "    } while (position < fileData.byteLength);\n",
              "  }\n",
              "\n",
              "  // All done.\n",
              "  yield {\n",
              "    response: {\n",
              "      action: 'complete',\n",
              "    }\n",
              "  };\n",
              "}\n",
              "\n",
              "scope.google = scope.google || {};\n",
              "scope.google.colab = scope.google.colab || {};\n",
              "scope.google.colab._files = {\n",
              "  _uploadFiles,\n",
              "  _uploadFilesContinue,\n",
              "};\n",
              "})(self);\n",
              "</script> "
            ]
          },
          "metadata": {}
        },
        {
          "output_type": "stream",
          "name": "stdout",
          "text": [
            "Saving DigitalAd_dataset.csv to DigitalAd_dataset.csv\n"
          ]
        }
      ]
    },
    {
      "cell_type": "markdown",
      "source": [
        "## **Load Dataset**"
      ],
      "metadata": {
        "id": "5Gng6-N-du3b"
      }
    },
    {
      "cell_type": "code",
      "source": [
        "dataset = pd.read_csv('DigitalAd_dataset.csv')\n",
        "print(dataset)"
      ],
      "metadata": {
        "id": "rnfN8JpTdzLV",
        "colab": {
          "base_uri": "https://localhost:8080/"
        },
        "outputId": "c7329fc2-6485-4d40-c3b1-4bebb7e84d8c"
      },
      "execution_count": 9,
      "outputs": [
        {
          "output_type": "stream",
          "name": "stdout",
          "text": [
            "     Age  Salary  Status\n",
            "0     18   82000       0\n",
            "1     29   80000       0\n",
            "2     47   25000       1\n",
            "3     45   26000       1\n",
            "4     46   28000       1\n",
            "..   ...     ...     ...\n",
            "395   35   65000       0\n",
            "396   26   80000       0\n",
            "397   26   52000       0\n",
            "398   20   86000       0\n",
            "399   32   18000       0\n",
            "\n",
            "[400 rows x 3 columns]\n"
          ]
        }
      ]
    },
    {
      "cell_type": "markdown",
      "source": [
        "## **Summarize Dataset**"
      ],
      "metadata": {
        "id": "gfLaPyDteRGT"
      }
    },
    {
      "cell_type": "code",
      "source": [
        "print(dataset.shape)\n",
        "print(dataset.head(5))\n",
        "print(dataset.tail(5))"
      ],
      "metadata": {
        "id": "Xq2JaGIeeVIX",
        "colab": {
          "base_uri": "https://localhost:8080/"
        },
        "outputId": "c5c50116-8b61-4422-cac0-15c45383ed31"
      },
      "execution_count": 10,
      "outputs": [
        {
          "output_type": "stream",
          "name": "stdout",
          "text": [
            "(400, 3)\n",
            "   Age  Salary  Status\n",
            "0   18   82000       0\n",
            "1   29   80000       0\n",
            "2   47   25000       1\n",
            "3   45   26000       1\n",
            "4   46   28000       1\n",
            "     Age  Salary  Status\n",
            "395   35   65000       0\n",
            "396   26   80000       0\n",
            "397   26   52000       0\n",
            "398   20   86000       0\n",
            "399   32   18000       0\n"
          ]
        }
      ]
    },
    {
      "cell_type": "markdown",
      "source": [
        "## **Segregate Dataset into Input(X) and Output(Y)**"
      ],
      "metadata": {
        "id": "Dl36-KG4e6Hc"
      }
    },
    {
      "cell_type": "code",
      "source": [
        "x = dataset.iloc[:, :-1].values\n",
        "print(x)"
      ],
      "metadata": {
        "collapsed": true,
        "id": "Y5x7LR2SetZ4",
        "colab": {
          "base_uri": "https://localhost:8080/"
        },
        "outputId": "48da20e9-7f27-4e37-93bf-eda01f76a097"
      },
      "execution_count": 11,
      "outputs": [
        {
          "output_type": "stream",
          "name": "stdout",
          "text": [
            "[[    18  82000]\n",
            " [    29  80000]\n",
            " [    47  25000]\n",
            " [    45  26000]\n",
            " [    46  28000]\n",
            " [    48  29000]\n",
            " [    45  22000]\n",
            " [    47  49000]\n",
            " [    48  41000]\n",
            " [    45  22000]\n",
            " [    46  23000]\n",
            " [    47  20000]\n",
            " [    49  28000]\n",
            " [    47  30000]\n",
            " [    29  43000]\n",
            " [    31  18000]\n",
            " [    31  74000]\n",
            " [    27 137000]\n",
            " [    21  16000]\n",
            " [    28  44000]\n",
            " [    27  90000]\n",
            " [    35  27000]\n",
            " [    33  28000]\n",
            " [    30  49000]\n",
            " [    26  72000]\n",
            " [    27  31000]\n",
            " [    27  17000]\n",
            " [    33  51000]\n",
            " [    35 108000]\n",
            " [    30  15000]\n",
            " [    28  84000]\n",
            " [    23  20000]\n",
            " [    25  79000]\n",
            " [    27  54000]\n",
            " [    30 135000]\n",
            " [    31  89000]\n",
            " [    24  32000]\n",
            " [    18  44000]\n",
            " [    29  83000]\n",
            " [    35  23000]\n",
            " [    27  58000]\n",
            " [    24  55000]\n",
            " [    23  48000]\n",
            " [    28  79000]\n",
            " [    22  18000]\n",
            " [    32 117000]\n",
            " [    27  20000]\n",
            " [    25  87000]\n",
            " [    23  66000]\n",
            " [    32 120000]\n",
            " [    59  83000]\n",
            " [    24  58000]\n",
            " [    24  19000]\n",
            " [    23  82000]\n",
            " [    22  63000]\n",
            " [    31  68000]\n",
            " [    25  80000]\n",
            " [    24  27000]\n",
            " [    20  23000]\n",
            " [    33 113000]\n",
            " [    32  18000]\n",
            " [    34 112000]\n",
            " [    18  52000]\n",
            " [    22  27000]\n",
            " [    28  87000]\n",
            " [    26  17000]\n",
            " [    30  80000]\n",
            " [    39  42000]\n",
            " [    20  49000]\n",
            " [    35  88000]\n",
            " [    30  62000]\n",
            " [    31 118000]\n",
            " [    24  55000]\n",
            " [    28  85000]\n",
            " [    26  81000]\n",
            " [    35  50000]\n",
            " [    22  81000]\n",
            " [    30 116000]\n",
            " [    26  15000]\n",
            " [    29  28000]\n",
            " [    29  83000]\n",
            " [    35  44000]\n",
            " [    35  25000]\n",
            " [    28 123000]\n",
            " [    35  73000]\n",
            " [    28  37000]\n",
            " [    27  88000]\n",
            " [    28  59000]\n",
            " [    32  86000]\n",
            " [    33 149000]\n",
            " [    19  21000]\n",
            " [    21  72000]\n",
            " [    26  35000]\n",
            " [    27  89000]\n",
            " [    26  86000]\n",
            " [    38  80000]\n",
            " [    39  71000]\n",
            " [    37  71000]\n",
            " [    38  61000]\n",
            " [    37  55000]\n",
            " [    42  80000]\n",
            " [    40  57000]\n",
            " [    35  75000]\n",
            " [    36  52000]\n",
            " [    40  59000]\n",
            " [    41  59000]\n",
            " [    36  75000]\n",
            " [    37  72000]\n",
            " [    40  75000]\n",
            " [    35  53000]\n",
            " [    41  51000]\n",
            " [    39  61000]\n",
            " [    42  65000]\n",
            " [    26  32000]\n",
            " [    30  17000]\n",
            " [    26  84000]\n",
            " [    31  58000]\n",
            " [    33  31000]\n",
            " [    30  87000]\n",
            " [    21  68000]\n",
            " [    28  55000]\n",
            " [    23  63000]\n",
            " [    20  82000]\n",
            " [    30 107000]\n",
            " [    28  59000]\n",
            " [    19  25000]\n",
            " [    19  85000]\n",
            " [    18  68000]\n",
            " [    35  59000]\n",
            " [    30  89000]\n",
            " [    34  25000]\n",
            " [    24  89000]\n",
            " [    27  96000]\n",
            " [    41  30000]\n",
            " [    29  61000]\n",
            " [    20  74000]\n",
            " [    26  15000]\n",
            " [    41  45000]\n",
            " [    31  76000]\n",
            " [    36  50000]\n",
            " [    40  47000]\n",
            " [    31  15000]\n",
            " [    46  59000]\n",
            " [    29  75000]\n",
            " [    26  30000]\n",
            " [    32 135000]\n",
            " [    32 100000]\n",
            " [    25  90000]\n",
            " [    37  33000]\n",
            " [    35  38000]\n",
            " [    33  69000]\n",
            " [    18  86000]\n",
            " [    22  55000]\n",
            " [    35  71000]\n",
            " [    29 148000]\n",
            " [    29  47000]\n",
            " [    21  88000]\n",
            " [    34 115000]\n",
            " [    26 118000]\n",
            " [    34  43000]\n",
            " [    34  72000]\n",
            " [    23  28000]\n",
            " [    35  47000]\n",
            " [    25  22000]\n",
            " [    24  23000]\n",
            " [    31  34000]\n",
            " [    26  16000]\n",
            " [    31  71000]\n",
            " [    32 117000]\n",
            " [    33  43000]\n",
            " [    33  60000]\n",
            " [    31  66000]\n",
            " [    20  82000]\n",
            " [    33  41000]\n",
            " [    35  72000]\n",
            " [    28  32000]\n",
            " [    24  84000]\n",
            " [    19  26000]\n",
            " [    29  43000]\n",
            " [    19  70000]\n",
            " [    28  89000]\n",
            " [    34  43000]\n",
            " [    30  79000]\n",
            " [    20  36000]\n",
            " [    26  80000]\n",
            " [    35  22000]\n",
            " [    35  39000]\n",
            " [    49  74000]\n",
            " [    39 134000]\n",
            " [    41  71000]\n",
            " [    58 101000]\n",
            " [    47  47000]\n",
            " [    55 130000]\n",
            " [    52 114000]\n",
            " [    40 142000]\n",
            " [    46  22000]\n",
            " [    48  96000]\n",
            " [    52 150000]\n",
            " [    59  42000]\n",
            " [    35  58000]\n",
            " [    47  43000]\n",
            " [    60 108000]\n",
            " [    49  65000]\n",
            " [    40  78000]\n",
            " [    46  96000]\n",
            " [    59 143000]\n",
            " [    41  80000]\n",
            " [    35  91000]\n",
            " [    37 144000]\n",
            " [    60 102000]\n",
            " [    35  60000]\n",
            " [    37  53000]\n",
            " [    36 126000]\n",
            " [    56 133000]\n",
            " [    40  72000]\n",
            " [    42  80000]\n",
            " [    35 147000]\n",
            " [    39  42000]\n",
            " [    40 107000]\n",
            " [    49  86000]\n",
            " [    38 112000]\n",
            " [    46  79000]\n",
            " [    40  57000]\n",
            " [    37  80000]\n",
            " [    46  82000]\n",
            " [    53 143000]\n",
            " [    42 149000]\n",
            " [    38  59000]\n",
            " [    50  88000]\n",
            " [    56 104000]\n",
            " [    41  72000]\n",
            " [    51 146000]\n",
            " [    35  50000]\n",
            " [    57 122000]\n",
            " [    41  52000]\n",
            " [    35  97000]\n",
            " [    44  39000]\n",
            " [    37  52000]\n",
            " [    48 134000]\n",
            " [    37 146000]\n",
            " [    50  44000]\n",
            " [    52  90000]\n",
            " [    41  72000]\n",
            " [    40  57000]\n",
            " [    58  95000]\n",
            " [    45 131000]\n",
            " [    35  77000]\n",
            " [    36 144000]\n",
            " [    55 125000]\n",
            " [    35  72000]\n",
            " [    48  90000]\n",
            " [    42 108000]\n",
            " [    40  75000]\n",
            " [    37  74000]\n",
            " [    47 144000]\n",
            " [    40  61000]\n",
            " [    43 133000]\n",
            " [    59  76000]\n",
            " [    60  42000]\n",
            " [    39 106000]\n",
            " [    57  26000]\n",
            " [    57  74000]\n",
            " [    38  71000]\n",
            " [    49  88000]\n",
            " [    52  38000]\n",
            " [    50  36000]\n",
            " [    59  88000]\n",
            " [    35  61000]\n",
            " [    37  70000]\n",
            " [    52  21000]\n",
            " [    48 141000]\n",
            " [    37  93000]\n",
            " [    37  62000]\n",
            " [    48 138000]\n",
            " [    41  79000]\n",
            " [    37  78000]\n",
            " [    39 134000]\n",
            " [    49  89000]\n",
            " [    55  39000]\n",
            " [    37  77000]\n",
            " [    35  57000]\n",
            " [    36  63000]\n",
            " [    42  73000]\n",
            " [    43 112000]\n",
            " [    45  79000]\n",
            " [    46 117000]\n",
            " [    58  38000]\n",
            " [    48  74000]\n",
            " [    37 137000]\n",
            " [    37  79000]\n",
            " [    40  60000]\n",
            " [    42  54000]\n",
            " [    51 134000]\n",
            " [    47 113000]\n",
            " [    36 125000]\n",
            " [    38  50000]\n",
            " [    42  70000]\n",
            " [    39  96000]\n",
            " [    38  50000]\n",
            " [    49 141000]\n",
            " [    39  79000]\n",
            " [    39  75000]\n",
            " [    54 104000]\n",
            " [    35  55000]\n",
            " [    45  32000]\n",
            " [    36  60000]\n",
            " [    52 138000]\n",
            " [    53  82000]\n",
            " [    41  52000]\n",
            " [    48  30000]\n",
            " [    48 131000]\n",
            " [    41  60000]\n",
            " [    41  72000]\n",
            " [    42  75000]\n",
            " [    36 118000]\n",
            " [    47 107000]\n",
            " [    38  51000]\n",
            " [    48 119000]\n",
            " [    42  65000]\n",
            " [    40  65000]\n",
            " [    57  60000]\n",
            " [    36  54000]\n",
            " [    58 144000]\n",
            " [    35  79000]\n",
            " [    38  55000]\n",
            " [    39 122000]\n",
            " [    53 104000]\n",
            " [    35  75000]\n",
            " [    38  65000]\n",
            " [    47  51000]\n",
            " [    47 105000]\n",
            " [    41  63000]\n",
            " [    53  72000]\n",
            " [    54 108000]\n",
            " [    39  77000]\n",
            " [    38  61000]\n",
            " [    38 113000]\n",
            " [    37  75000]\n",
            " [    42  90000]\n",
            " [    37  57000]\n",
            " [    36  99000]\n",
            " [    60  34000]\n",
            " [    54  70000]\n",
            " [    41  72000]\n",
            " [    40  71000]\n",
            " [    42  54000]\n",
            " [    43 129000]\n",
            " [    53  34000]\n",
            " [    47  50000]\n",
            " [    42  79000]\n",
            " [    42 104000]\n",
            " [    59  29000]\n",
            " [    58  47000]\n",
            " [    46  88000]\n",
            " [    38  71000]\n",
            " [    54  26000]\n",
            " [    60  46000]\n",
            " [    60  83000]\n",
            " [    39  73000]\n",
            " [    59 130000]\n",
            " [    37  80000]\n",
            " [    46  32000]\n",
            " [    46  74000]\n",
            " [    42  53000]\n",
            " [    41  87000]\n",
            " [    58  23000]\n",
            " [    42  64000]\n",
            " [    48  33000]\n",
            " [    44 139000]\n",
            " [    49  28000]\n",
            " [    57  33000]\n",
            " [    56  60000]\n",
            " [    49  39000]\n",
            " [    39  71000]\n",
            " [    47  34000]\n",
            " [    48  35000]\n",
            " [    48  33000]\n",
            " [    47  23000]\n",
            " [    45  45000]\n",
            " [    60  42000]\n",
            " [    39  59000]\n",
            " [    46  41000]\n",
            " [    51  23000]\n",
            " [    50  20000]\n",
            " [    36  33000]\n",
            " [    49  36000]\n",
            " [    19  19000]\n",
            " [    35  20000]\n",
            " [    26  43000]\n",
            " [    27  57000]\n",
            " [    19  76000]\n",
            " [    27  58000]\n",
            " [    27  84000]\n",
            " [    32 150000]\n",
            " [    25  33000]\n",
            " [    35  65000]\n",
            " [    26  80000]\n",
            " [    26  52000]\n",
            " [    20  86000]\n",
            " [    32  18000]]\n"
          ]
        }
      ]
    },
    {
      "cell_type": "code",
      "source": [
        "y = dataset.iloc[:, -1].values\n",
        "print(y)"
      ],
      "metadata": {
        "id": "gaWdkkdofcnI",
        "colab": {
          "base_uri": "https://localhost:8080/"
        },
        "outputId": "e426a8f5-040f-43ec-ed45-600d3ca15da6"
      },
      "execution_count": 12,
      "outputs": [
        {
          "output_type": "stream",
          "name": "stdout",
          "text": [
            "[0 0 1 1 1 1 1 1 1 1 1 1 1 1 0 0 0 1 0 0 0 0 0 0 0 0 0 0 0 0 0 0 0 0 1 0 0\n",
            " 0 0 0 0 0 0 0 0 0 0 0 0 1 0 0 0 0 0 0 0 0 0 0 0 1 0 0 0 0 0 0 0 0 0 1 0 0\n",
            " 0 0 0 0 0 0 0 0 0 1 0 0 0 0 0 1 0 0 0 0 0 0 0 0 0 0 0 0 0 0 0 0 0 0 0 0 0\n",
            " 0 0 0 0 0 0 0 0 0 0 0 0 1 0 0 0 0 0 0 0 0 1 0 0 0 0 0 0 0 0 0 0 0 0 1 1 0\n",
            " 0 0 0 0 0 0 1 0 0 0 0 0 0 0 0 0 0 0 0 0 1 0 0 0 0 0 0 0 0 0 0 0 0 0 0 0 0\n",
            " 0 0 0 1 0 1 0 1 0 1 0 1 1 0 0 0 1 0 0 0 1 0 1 1 1 0 0 1 1 0 1 1 0 1 1 0 1\n",
            " 0 0 0 1 1 0 1 1 0 1 0 1 0 1 0 0 1 1 0 1 0 0 1 1 0 1 1 0 1 1 0 0 1 0 0 1 1\n",
            " 1 1 1 0 1 1 1 1 0 1 1 0 1 0 1 0 1 1 1 1 0 0 0 1 1 0 1 1 1 1 1 0 0 0 1 1 0\n",
            " 0 1 0 1 0 1 1 0 1 0 1 1 0 1 1 0 0 0 1 1 0 1 0 0 1 0 1 0 0 1 1 0 0 1 1 0 1\n",
            " 1 0 0 1 0 1 0 1 1 1 0 1 0 1 1 1 0 1 1 1 1 0 1 1 1 0 1 0 1 0 0 1 1 0 1 1 1\n",
            " 1 1 1 0 1 1 1 1 1 1 0 1 1 1 0 1 0 0 0 0 0 0 0 1 0 0 0 0 0 0]\n"
          ]
        }
      ]
    },
    {
      "cell_type": "markdown",
      "source": [
        "## **Splitting Dataset into Train & Test**"
      ],
      "metadata": {
        "id": "Oo2tmAKBgIul"
      }
    },
    {
      "cell_type": "code",
      "source": [
        "from sklearn.model_selection import train_test_split\n",
        "x_train, x_test,y_train, y_test = train_test_split(x, y, test_size=0.5, random_state=0)"
      ],
      "metadata": {
        "id": "fWvwuEcIgG3z"
      },
      "execution_count": 13,
      "outputs": []
    },
    {
      "cell_type": "markdown",
      "source": [
        "## **Feature Scaling**"
      ],
      "metadata": {
        "id": "J4IRIeQMiLU1"
      }
    },
    {
      "cell_type": "code",
      "source": [
        "from sklearn.preprocessing import StandardScaler\n",
        "sc = StandardScaler()\n",
        "x_train = sc.fit_transform(x_train)\n",
        "x_test = sc.transform(x_test)\n",
        "print(x_train)\n",
        "\n"
      ],
      "metadata": {
        "collapsed": true,
        "id": "A6GZJlnpiPVW",
        "colab": {
          "base_uri": "https://localhost:8080/"
        },
        "outputId": "36681487-46fd-49de-b816-f7d54a031dfb"
      },
      "execution_count": 14,
      "outputs": [
        {
          "output_type": "stream",
          "name": "stdout",
          "text": [
            "[[-6.02670885e-01  1.76218404e-01]\n",
            " [ 5.46958096e-01 -9.12275909e-01]\n",
            " [ 9.89123089e-01  4.70406056e-01]\n",
            " [ 2.81659100e-01  2.64474699e-01]\n",
            " [ 1.51972108e+00 -9.12275909e-01]\n",
            " [ 1.34285508e+00  3.52730995e-01]\n",
            " [-7.20728938e-02  2.23553197e+00]\n",
            " [-6.02670885e-01  5.58662352e-01]\n",
            " [ 7.23824093e-01  7.64593708e-01]\n",
            " [-9.56402880e-01  4.11568525e-01]\n",
            " [ 1.04793103e-01 -8.24019614e-01]\n",
            " [-1.04483588e+00  5.85433428e-02]\n",
            " [ 1.34285508e+00  5.85433428e-02]\n",
            " [-1.39856787e+00 -1.53006998e+00]\n",
            " [ 1.25442208e+00  5.88081117e-01]\n",
            " [-6.91103884e-01  5.58662352e-01]\n",
            " [-9.56402880e-01  5.58662352e-01]\n",
            " [ 1.04793103e-01 -2.65063075e-01]\n",
            " [-1.04483588e+00 -1.58890751e+00]\n",
            " [-9.56402880e-01 -3.82738136e-01]\n",
            " [ 1.07755609e+00 -1.47123245e+00]\n",
            " [ 1.43128808e+00 -2.94187652e-04]\n",
            " [-9.56402880e-01 -3.53319370e-01]\n",
            " [-1.48700087e+00 -1.58890751e+00]\n",
            " [ 6.35391095e-01  2.64474699e-01]\n",
            " [-7.79536883e-01 -1.23588233e+00]\n",
            " [-2.48938891e-01  5.85433428e-02]\n",
            " [-1.13326888e+00 -1.08878850e+00]\n",
            " [-6.02670885e-01  1.41180654e+00]\n",
            " [ 8.12257092e-01 -1.17704480e+00]\n",
            " [ 9.00690091e-01 -1.08878850e+00]\n",
            " [ 1.60815408e+00  1.85308802e+00]\n",
            " [ 9.89123089e-01 -1.00053221e+00]\n",
            " [-1.04483588e+00 -7.94600849e-01]\n",
            " [ 1.07755609e+00  5.29243586e-01]\n",
            " [-3.37371890e-01  5.85433428e-02]\n",
            " [ 1.93226102e-01 -3.23900605e-01]\n",
            " [-1.31013487e+00 -1.23588233e+00]\n",
            " [-8.67969881e-01  1.55890037e+00]\n",
            " [ 2.81659100e-01  2.91245776e-02]\n",
            " [-1.04483588e+00 -5.29831962e-01]\n",
            " [-6.91103884e-01  4.99824821e-01]\n",
            " [ 8.12257092e-01  2.17669444e+00]\n",
            " [ 1.04793103e-01  1.88250679e+00]\n",
            " [-7.20728938e-02  2.17669444e+00]\n",
            " [ 9.00690091e-01 -1.02995097e+00]\n",
            " [ 2.81659100e-01 -5.59250727e-01]\n",
            " [-2.48938891e-01 -9.41694675e-01]\n",
            " [-3.37371890e-01  1.32355025e+00]\n",
            " [-1.39856787e+00 -4.41575666e-01]\n",
            " [-6.02670885e-01  1.17380873e-01]\n",
            " [ 1.25442208e+00 -1.44181368e+00]\n",
            " [-2.48938891e-01 -5.88669492e-01]\n",
            " [-2.48938891e-01 -5.00413196e-01]\n",
            " [-2.48938891e-01  1.46799638e-01]\n",
            " [ 1.87345308e+00  2.14727567e+00]\n",
            " [ 8.12257092e-01  1.08820013e+00]\n",
            " [-1.60505892e-01 -5.88669492e-01]\n",
            " [-7.20728938e-02 -5.29831962e-01]\n",
            " [ 1.93226102e-01 -1.47388014e-01]\n",
            " [ 1.51972108e+00  1.61773790e+00]\n",
            " [ 2.81659100e-01 -5.29831962e-01]\n",
            " [-8.67969881e-01 -7.65182083e-01]\n",
            " [ 3.70092099e-01  2.32378826e+00]\n",
            " [ 1.25442208e+00  2.00018185e+00]\n",
            " [ 6.35391095e-01 -1.29471986e+00]\n",
            " [ 1.04793103e-01  1.88250679e+00]\n",
            " [-1.66386687e+00 -1.32413862e+00]\n",
            " [-6.91103884e-01  1.35296901e+00]\n",
            " [-1.04483588e+00  2.93893465e-01]\n",
            " [ 1.04793103e-01  1.46799638e-01]\n",
            " [ 1.96188607e+00 -8.24019614e-01]\n",
            " [ 4.58525098e-01  1.73541296e+00]\n",
            " [-6.91103884e-01  2.64474699e-01]\n",
            " [ 1.96188607e+00 -7.06344553e-01]\n",
            " [-7.79536883e-01  3.82149760e-01]\n",
            " [ 1.96188607e+00 -8.24019614e-01]\n",
            " [ 8.12257092e-01 -1.47123245e+00]\n",
            " [ 1.63601047e-02 -5.88669492e-01]\n",
            " [-9.56402880e-01  5.29243586e-01]\n",
            " [ 1.87345308e+00  5.29243586e-01]\n",
            " [-1.22170188e+00 -1.11820727e+00]\n",
            " [ 1.16598909e+00 -1.38297615e+00]\n",
            " [-1.57543387e+00 -1.38297615e+00]\n",
            " [-1.22170188e+00 -4.41575666e-01]\n",
            " [ 9.00690091e-01  2.08843814e+00]\n",
            " [ 1.87345308e+00  3.82149760e-01]\n",
            " [ 1.96188607e+00  9.41106299e-01]\n",
            " [ 9.00690091e-01  1.44122531e+00]\n",
            " [ 1.63601047e-02 -5.59250727e-01]\n",
            " [ 2.81659100e-01 -2.06225544e-01]\n",
            " [-6.91103884e-01  1.08820013e+00]\n",
            " [ 1.93226102e-01 -3.82738136e-01]\n",
            " [-1.75229987e+00 -5.29831962e-01]\n",
            " [ 1.43128808e+00  9.99943830e-01]\n",
            " [-3.37371890e-01 -1.32413862e+00]\n",
            " [ 9.89123089e-01  1.17380873e-01]\n",
            " [-6.91103884e-01 -6.18088257e-01]\n",
            " [-8.67969881e-01  2.64474699e-01]\n",
            " [-1.75229987e+00  3.52730995e-01]\n",
            " [ 1.96188607e+00  1.11761889e+00]\n",
            " [-7.20728938e-02 -3.82738136e-01]\n",
            " [ 1.63601047e-02 -2.65063075e-01]\n",
            " [-2.48938891e-01 -1.47123245e+00]\n",
            " [-7.79536883e-01 -7.94600849e-01]\n",
            " [ 4.58525098e-01  1.85308802e+00]\n",
            " [-1.04483588e+00  4.70406056e-01]\n",
            " [ 9.89123089e-01 -1.23588233e+00]\n",
            " [ 1.63601047e-02  2.93893465e-01]\n",
            " [ 1.87345308e+00 -1.20646356e+00]\n",
            " [-4.25804888e-01 -7.94600849e-01]\n",
            " [-2.48938891e-01  5.29243586e-01]\n",
            " [-1.60505892e-01 -2.94481840e-01]\n",
            " [-1.31013487e+00 -1.17969249e-01]\n",
            " [-2.48938891e-01  6.17499882e-01]\n",
            " [-7.20728938e-02  2.05637169e-01]\n",
            " [ 1.63601047e-02 -3.23900605e-01]\n",
            " [-7.20728938e-02 -1.08878850e+00]\n",
            " [-7.79536883e-01  1.46799638e-01]\n",
            " [-8.67969881e-01  5.58662352e-01]\n",
            " [-1.22170188e+00  5.58662352e-01]\n",
            " [ 1.96188607e+00  3.82149760e-01]\n",
            " [-1.57543387e+00  4.70406056e-01]\n",
            " [ 1.63601047e-02  2.91245776e-02]\n",
            " [ 1.63601047e-02 -4.41575666e-01]\n",
            " [ 1.93226102e-01  2.35055934e-01]\n",
            " [-2.48938891e-01  8.79621080e-02]\n",
            " [-1.31013487e+00 -2.06225544e-01]\n",
            " [ 3.70092099e-01 -4.70994431e-01]\n",
            " [ 3.70092099e-01 -1.76806779e-01]\n",
            " [-1.48700087e+00  5.85433428e-02]\n",
            " [-2.48938891e-01 -1.32413862e+00]\n",
            " [-2.48938891e-01 -2.65063075e-01]\n",
            " [-1.48700087e+00 -5.91317181e-02]\n",
            " [ 3.70092099e-01 -4.70994431e-01]\n",
            " [-1.22170188e+00 -1.26530109e+00]\n",
            " [-1.60505892e-01 -4.70994431e-01]\n",
            " [ 1.87345308e+00  1.76218404e-01]\n",
            " [ 1.43128808e+00 -1.29471986e+00]\n",
            " [-1.31013487e+00 -6.47507022e-01]\n",
            " [ 2.81659100e-01 -3.23900605e-01]\n",
            " [ 5.46958096e-01  2.02960061e+00]\n",
            " [ 9.00690091e-01  2.00018185e+00]\n",
            " [ 7.23824093e-01  5.29243586e-01]\n",
            " [-7.79536883e-01  3.82149760e-01]\n",
            " [-1.31013487e+00  3.52730995e-01]\n",
            " [ 1.34285508e+00 -1.05936974e+00]\n",
            " [-2.48938891e-01 -3.23900605e-01]\n",
            " [ 1.93226102e-01 -2.94481840e-01]\n",
            " [-2.48938891e-01  1.11761889e+00]\n",
            " [-1.57543387e+00 -1.00053221e+00]\n",
            " [-1.13326888e+00 -1.41239492e+00]\n",
            " [-1.75229987e+00  4.70406056e-01]\n",
            " [ 1.78502008e+00  7.35174943e-01]\n",
            " [ 9.89123089e-01 -1.47388014e-01]\n",
            " [-1.31013487e+00 -1.47123245e+00]\n",
            " [-1.13326888e+00  2.64474699e-01]\n",
            " [-1.75229987e+00 -5.91317181e-02]\n",
            " [-2.48938891e-01 -1.41239492e+00]\n",
            " [ 9.89123089e-01 -9.12275909e-01]\n",
            " [-7.20728938e-02  1.97076308e+00]\n",
            " [ 7.23824093e-01  1.17380873e-01]\n",
            " [-1.13326888e+00  5.88081117e-01]\n",
            " [ 7.23824093e-01  1.38238778e+00]\n",
            " [ 1.69658708e+00 -1.08878850e+00]\n",
            " [-1.66386687e+00 -1.29471986e+00]\n",
            " [-7.20728938e-02 -4.41575666e-01]\n",
            " [ 3.70092099e-01  5.88081117e-01]\n",
            " [ 1.63601047e-02 -2.65063075e-01]\n",
            " [ 1.25442208e+00  2.35320703e+00]\n",
            " [ 1.93226102e-01 -3.82738136e-01]\n",
            " [-1.04483588e+00  4.11568525e-01]\n",
            " [ 1.07755609e+00 -1.00053221e+00]\n",
            " [-1.22170188e+00 -4.41575666e-01]\n",
            " [ 1.43128808e+00  1.11761889e+00]\n",
            " [-9.56402880e-01 -1.14762603e+00]\n",
            " [-6.02670885e-01 -1.05936974e+00]\n",
            " [-7.20728938e-02  1.46799638e-01]\n",
            " [-1.60505892e-01 -1.08878850e+00]\n",
            " [-2.48938891e-01  5.85433428e-02]\n",
            " [-1.66386687e+00 -1.50065121e+00]\n",
            " [-2.48938891e-01 -1.38297615e+00]\n",
            " [ 1.25442208e+00  1.29413148e+00]\n",
            " [-1.60505892e-01  1.41180654e+00]\n",
            " [-5.14237887e-01  4.70406056e-01]\n",
            " [-6.91103884e-01 -2.35644309e-01]\n",
            " [-8.67969881e-01 -3.23900605e-01]\n",
            " [ 1.16598909e+00  1.88250679e+00]\n",
            " [ 2.81659100e-01  5.85433428e-02]\n",
            " [ 9.89123089e-01  5.58662352e-01]\n",
            " [-7.20728938e-02 -5.00413196e-01]\n",
            " [ 6.35391095e-01 -1.41239492e+00]\n",
            " [ 1.87345308e+00  1.76483173e+00]\n",
            " [ 7.23824093e-01 -1.41239492e+00]\n",
            " [ 3.70092099e-01  1.11761889e+00]\n",
            " [-2.48938891e-01  2.64474699e-01]\n",
            " [ 1.51972108e+00  1.76483173e+00]\n",
            " [-4.25804888e-01 -1.14762603e+00]\n",
            " [-1.13326888e+00  4.99824821e-01]\n",
            " [-1.57543387e+00  3.52730995e-01]]\n"
          ]
        }
      ]
    },
    {
      "cell_type": "markdown",
      "source": [
        "## **Algorithm Choosing & Training**"
      ],
      "metadata": {
        "id": "1DD60ecRjMVV"
      }
    },
    {
      "cell_type": "code",
      "source": [
        "from sklearn.linear_model import LogisticRegression\n",
        "model = LogisticRegression() #loading the algorithm\n",
        "model.fit(x_train, y_train) #training the model"
      ],
      "metadata": {
        "collapsed": true,
        "id": "HXxH5zh9jVoJ",
        "colab": {
          "base_uri": "https://localhost:8080/",
          "height": 74
        },
        "outputId": "f7b30fd2-a8b3-4652-cfa2-bd47fa66587f"
      },
      "execution_count": 15,
      "outputs": [
        {
          "output_type": "execute_result",
          "data": {
            "text/plain": [
              "LogisticRegression()"
            ],
            "text/html": [
              "<style>#sk-container-id-1 {color: black;background-color: white;}#sk-container-id-1 pre{padding: 0;}#sk-container-id-1 div.sk-toggleable {background-color: white;}#sk-container-id-1 label.sk-toggleable__label {cursor: pointer;display: block;width: 100%;margin-bottom: 0;padding: 0.3em;box-sizing: border-box;text-align: center;}#sk-container-id-1 label.sk-toggleable__label-arrow:before {content: \"▸\";float: left;margin-right: 0.25em;color: #696969;}#sk-container-id-1 label.sk-toggleable__label-arrow:hover:before {color: black;}#sk-container-id-1 div.sk-estimator:hover label.sk-toggleable__label-arrow:before {color: black;}#sk-container-id-1 div.sk-toggleable__content {max-height: 0;max-width: 0;overflow: hidden;text-align: left;background-color: #f0f8ff;}#sk-container-id-1 div.sk-toggleable__content pre {margin: 0.2em;color: black;border-radius: 0.25em;background-color: #f0f8ff;}#sk-container-id-1 input.sk-toggleable__control:checked~div.sk-toggleable__content {max-height: 200px;max-width: 100%;overflow: auto;}#sk-container-id-1 input.sk-toggleable__control:checked~label.sk-toggleable__label-arrow:before {content: \"▾\";}#sk-container-id-1 div.sk-estimator input.sk-toggleable__control:checked~label.sk-toggleable__label {background-color: #d4ebff;}#sk-container-id-1 div.sk-label input.sk-toggleable__control:checked~label.sk-toggleable__label {background-color: #d4ebff;}#sk-container-id-1 input.sk-hidden--visually {border: 0;clip: rect(1px 1px 1px 1px);clip: rect(1px, 1px, 1px, 1px);height: 1px;margin: -1px;overflow: hidden;padding: 0;position: absolute;width: 1px;}#sk-container-id-1 div.sk-estimator {font-family: monospace;background-color: #f0f8ff;border: 1px dotted black;border-radius: 0.25em;box-sizing: border-box;margin-bottom: 0.5em;}#sk-container-id-1 div.sk-estimator:hover {background-color: #d4ebff;}#sk-container-id-1 div.sk-parallel-item::after {content: \"\";width: 100%;border-bottom: 1px solid gray;flex-grow: 1;}#sk-container-id-1 div.sk-label:hover label.sk-toggleable__label {background-color: #d4ebff;}#sk-container-id-1 div.sk-serial::before {content: \"\";position: absolute;border-left: 1px solid gray;box-sizing: border-box;top: 0;bottom: 0;left: 50%;z-index: 0;}#sk-container-id-1 div.sk-serial {display: flex;flex-direction: column;align-items: center;background-color: white;padding-right: 0.2em;padding-left: 0.2em;position: relative;}#sk-container-id-1 div.sk-item {position: relative;z-index: 1;}#sk-container-id-1 div.sk-parallel {display: flex;align-items: stretch;justify-content: center;background-color: white;position: relative;}#sk-container-id-1 div.sk-item::before, #sk-container-id-1 div.sk-parallel-item::before {content: \"\";position: absolute;border-left: 1px solid gray;box-sizing: border-box;top: 0;bottom: 0;left: 50%;z-index: -1;}#sk-container-id-1 div.sk-parallel-item {display: flex;flex-direction: column;z-index: 1;position: relative;background-color: white;}#sk-container-id-1 div.sk-parallel-item:first-child::after {align-self: flex-end;width: 50%;}#sk-container-id-1 div.sk-parallel-item:last-child::after {align-self: flex-start;width: 50%;}#sk-container-id-1 div.sk-parallel-item:only-child::after {width: 0;}#sk-container-id-1 div.sk-dashed-wrapped {border: 1px dashed gray;margin: 0 0.4em 0.5em 0.4em;box-sizing: border-box;padding-bottom: 0.4em;background-color: white;}#sk-container-id-1 div.sk-label label {font-family: monospace;font-weight: bold;display: inline-block;line-height: 1.2em;}#sk-container-id-1 div.sk-label-container {text-align: center;}#sk-container-id-1 div.sk-container {/* jupyter's `normalize.less` sets `[hidden] { display: none; }` but bootstrap.min.css set `[hidden] { display: none !important; }` so we also need the `!important` here to be able to override the default hidden behavior on the sphinx rendered scikit-learn.org. See: https://github.com/scikit-learn/scikit-learn/issues/21755 */display: inline-block !important;position: relative;}#sk-container-id-1 div.sk-text-repr-fallback {display: none;}</style><div id=\"sk-container-id-1\" class=\"sk-top-container\"><div class=\"sk-text-repr-fallback\"><pre>LogisticRegression()</pre><b>In a Jupyter environment, please rerun this cell to show the HTML representation or trust the notebook. <br />On GitHub, the HTML representation is unable to render, please try loading this page with nbviewer.org.</b></div><div class=\"sk-container\" hidden><div class=\"sk-item\"><div class=\"sk-estimator sk-toggleable\"><input class=\"sk-toggleable__control sk-hidden--visually\" id=\"sk-estimator-id-1\" type=\"checkbox\" checked><label for=\"sk-estimator-id-1\" class=\"sk-toggleable__label sk-toggleable__label-arrow\">LogisticRegression</label><div class=\"sk-toggleable__content\"><pre>LogisticRegression()</pre></div></div></div></div></div>"
            ]
          },
          "metadata": {},
          "execution_count": 15
        }
      ]
    },
    {
      "cell_type": "markdown",
      "source": [
        "## **Predicting Test Data**"
      ],
      "metadata": {
        "id": "haekWDLJn0Eh"
      }
    },
    {
      "cell_type": "code",
      "source": [
        "y_pred = model.predict(x_test)\n",
        "print(np.concatenate((y_pred.reshape(len(y_pred),1), y_test.reshape(len(y_test),1)),1))"
      ],
      "metadata": {
        "collapsed": true,
        "id": "dSgrZYN8n5ZI",
        "colab": {
          "base_uri": "https://localhost:8080/"
        },
        "outputId": "42e953cf-4027-4cef-c2d4-7ba702da95b5"
      },
      "execution_count": 16,
      "outputs": [
        {
          "output_type": "stream",
          "name": "stdout",
          "text": [
            "[[0 1]\n",
            " [0 1]\n",
            " [1 1]\n",
            " [1 1]\n",
            " [0 0]\n",
            " [0 0]\n",
            " [0 0]\n",
            " [1 1]\n",
            " [0 0]\n",
            " [0 0]\n",
            " [0 0]\n",
            " [0 0]\n",
            " [0 0]\n",
            " [1 1]\n",
            " [1 1]\n",
            " [0 0]\n",
            " [1 1]\n",
            " [0 0]\n",
            " [0 0]\n",
            " [0 0]\n",
            " [0 0]\n",
            " [0 1]\n",
            " [0 0]\n",
            " [0 1]\n",
            " [0 0]\n",
            " [0 0]\n",
            " [0 0]\n",
            " [0 0]\n",
            " [1 1]\n",
            " [0 0]\n",
            " [0 0]\n",
            " [0 0]\n",
            " [0 0]\n",
            " [1 1]\n",
            " [0 0]\n",
            " [0 0]\n",
            " [0 0]\n",
            " [0 0]\n",
            " [0 0]\n",
            " [0 0]\n",
            " [0 0]\n",
            " [1 1]\n",
            " [0 1]\n",
            " [0 0]\n",
            " [0 1]\n",
            " [0 0]\n",
            " [0 1]\n",
            " [0 0]\n",
            " [0 0]\n",
            " [1 1]\n",
            " [0 1]\n",
            " [0 0]\n",
            " [0 1]\n",
            " [0 0]\n",
            " [0 0]\n",
            " [0 0]\n",
            " [0 0]\n",
            " [0 1]\n",
            " [0 0]\n",
            " [0 0]\n",
            " [0 0]\n",
            " [0 0]\n",
            " [0 1]\n",
            " [0 0]\n",
            " [1 0]\n",
            " [1 1]\n",
            " [0 1]\n",
            " [0 1]\n",
            " [0 1]\n",
            " [1 1]\n",
            " [1 1]\n",
            " [1 1]\n",
            " [0 0]\n",
            " [0 0]\n",
            " [0 0]\n",
            " [0 0]\n",
            " [0 0]\n",
            " [0 1]\n",
            " [0 1]\n",
            " [1 1]\n",
            " [0 1]\n",
            " [0 0]\n",
            " [0 0]\n",
            " [0 0]\n",
            " [0 0]\n",
            " [1 1]\n",
            " [0 0]\n",
            " [0 0]\n",
            " [0 0]\n",
            " [0 1]\n",
            " [0 0]\n",
            " [0 0]\n",
            " [0 0]\n",
            " [1 1]\n",
            " [1 1]\n",
            " [0 1]\n",
            " [0 0]\n",
            " [0 0]\n",
            " [1 1]\n",
            " [0 1]\n",
            " [1 1]\n",
            " [0 0]\n",
            " [0 0]\n",
            " [0 0]\n",
            " [1 1]\n",
            " [0 1]\n",
            " [0 0]\n",
            " [0 0]\n",
            " [0 0]\n",
            " [0 0]\n",
            " [0 0]\n",
            " [0 1]\n",
            " [0 0]\n",
            " [0 0]\n",
            " [1 1]\n",
            " [0 1]\n",
            " [0 1]\n",
            " [0 1]\n",
            " [1 1]\n",
            " [0 0]\n",
            " [0 0]\n",
            " [0 0]\n",
            " [0 0]\n",
            " [0 0]\n",
            " [0 1]\n",
            " [1 0]\n",
            " [0 0]\n",
            " [0 0]\n",
            " [1 1]\n",
            " [0 1]\n",
            " [0 0]\n",
            " [0 1]\n",
            " [0 0]\n",
            " [1 0]\n",
            " [0 1]\n",
            " [0 0]\n",
            " [0 0]\n",
            " [1 1]\n",
            " [1 1]\n",
            " [0 1]\n",
            " [0 0]\n",
            " [0 0]\n",
            " [0 0]\n",
            " [0 0]\n",
            " [1 1]\n",
            " [0 0]\n",
            " [0 0]\n",
            " [1 1]\n",
            " [0 1]\n",
            " [0 0]\n",
            " [1 1]\n",
            " [0 0]\n",
            " [0 1]\n",
            " [0 0]\n",
            " [0 1]\n",
            " [0 0]\n",
            " [0 1]\n",
            " [0 0]\n",
            " [1 0]\n",
            " [1 1]\n",
            " [0 0]\n",
            " [0 0]\n",
            " [0 0]\n",
            " [0 1]\n",
            " [0 0]\n",
            " [0 1]\n",
            " [1 1]\n",
            " [0 0]\n",
            " [0 0]\n",
            " [0 1]\n",
            " [0 0]\n",
            " [0 1]\n",
            " [0 0]\n",
            " [0 0]\n",
            " [0 0]\n",
            " [1 1]\n",
            " [0 0]\n",
            " [0 0]\n",
            " [1 1]\n",
            " [0 0]\n",
            " [1 0]\n",
            " [0 0]\n",
            " [0 0]\n",
            " [0 1]\n",
            " [0 0]\n",
            " [0 0]\n",
            " [0 0]\n",
            " [0 0]\n",
            " [0 0]\n",
            " [0 1]\n",
            " [0 0]\n",
            " [0 0]\n",
            " [1 1]\n",
            " [0 0]\n",
            " [0 1]\n",
            " [0 0]\n",
            " [0 0]\n",
            " [0 1]\n",
            " [0 1]\n",
            " [1 1]]\n"
          ]
        }
      ]
    },
    {
      "cell_type": "markdown",
      "source": [
        "## **Confusion Matrix and Accuracy Score**"
      ],
      "metadata": {
        "id": "7dYDIDCm8frx"
      }
    },
    {
      "cell_type": "code",
      "source": [
        "from sklearn.metrics import confusion_matrix, accuracy_score\n",
        "\n",
        "cm = confusion_matrix(y_test, y_pred)\n",
        "print(cm)\n",
        "\n",
        "print(\"Accuracy of the Model: {0}%\".format(accuracy_score(y_test,y_pred)*100))"
      ],
      "metadata": {
        "id": "VaBOfB8jpuh6",
        "colab": {
          "base_uri": "https://localhost:8080/"
        },
        "outputId": "358ed600-a3fc-48ba-c472-db9c9ae36bfa"
      },
      "execution_count": 17,
      "outputs": [
        {
          "output_type": "stream",
          "name": "stdout",
          "text": [
            "[[117   5]\n",
            " [ 43  35]]\n",
            "Accuracy of the Model: 76.0%\n"
          ]
        }
      ]
    },
    {
      "cell_type": "markdown",
      "source": [
        "## **ROC Curve Validation**"
      ],
      "metadata": {
        "id": "HTT4nOI181S5"
      }
    },
    {
      "cell_type": "code",
      "source": [
        "from sklearn.metrics import roc_auc_score, roc_curve\n",
        "import matplotlib.pyplot as plt\n",
        "\n",
        "nsProbability = [0 for _ in range(len(y_test))]\n",
        "lrProbability = model.predict_proba(x_test)\n",
        "#print(lrProbability)\n",
        "\n",
        "# keep Probabilities for the positive outcome only\n",
        "lrProbability = lrProbability[:, 1]\n",
        "\n",
        "#calculate scores\n",
        "nsAUC = roc_auc_score(y_test, nsProbability)\n",
        "lrAUC = roc_auc_score(y_test, lrProbability)\n",
        "print(nsAUC)\n",
        "print(lrAUC)\n",
        "\n",
        "# summarize scores\n",
        "print('No Skill : ROC AUC = %.3F' %(nsAUC*100))\n",
        "print('Logistic Skill : ROC AUC = %.3F' %(lrAUC*100))\n",
        "\n",
        "#calculate roc curves\n",
        "nsFP, nsTP, _ = roc_curve(y_test, nsProbability)\n",
        "lrFP, lrTP, _ = roc_curve(y_test, lrProbability)\n",
        "\n",
        "#plot the roc curve for the model\n",
        "plt.plot(nsFP, nsTP, linestyle = '--', label = 'No Skill')\n",
        "plt.plot(lrFP, lrTP, marker ='*', label='Logistic')\n",
        "plt.xlabel('False Positive Rate')\n",
        "plt.ylabel('True Positive Rate')\n",
        "\n",
        "#show the legend\n",
        "plt.legend()\n",
        "plt.show()\n",
        "\n",
        "\n",
        "\n",
        "\n",
        "\n"
      ],
      "metadata": {
        "colab": {
          "base_uri": "https://localhost:8080/",
          "height": 522
        },
        "collapsed": true,
        "id": "sAtXCnIY81yP",
        "outputId": "11307f9b-3933-4382-8c10-93538a133140"
      },
      "execution_count": 18,
      "outputs": [
        {
          "output_type": "stream",
          "name": "stdout",
          "text": [
            "0.5\n",
            "0.9005884825556957\n",
            "No Skill : ROC AUC = 50.000\n",
            "Logistic Skill : ROC AUC = 90.059\n"
          ]
        },
        {
          "output_type": "display_data",
          "data": {
            "text/plain": [
              "<Figure size 640x480 with 1 Axes>"
            ],
            "image/png": "[encoded data removed]"
          },
          "metadata": {}
        }
      ]
    },
    {
      "cell_type": "markdown",
      "source": [
        "## **Cross Validation Score**"
      ],
      "metadata": {
        "id": "9qGUCEVIB0EM"
      }
    },
    {
      "cell_type": "code",
      "source": [
        "from sklearn.model_selection import cross_val_score\n",
        "from sklearn.model_selection import KFold\n",
        "\n",
        "kfold = KFold(n_splits=10)\n",
        "result = cross_val_score(model, x, y, cv=kfold)\n",
        "print(\"CROSS VALIDATION SCORE: %.2f%%\" % (result.mean()*100.0))\n"
      ],
      "metadata": {
        "colab": {
          "base_uri": "https://localhost:8080/"
        },
        "id": "I8zotFarB0qx",
        "outputId": "578db738-3d9b-4f65-cf59-c31760cf7ab0"
      },
      "execution_count": 19,
      "outputs": [
        {
          "output_type": "stream",
          "name": "stdout",
          "text": [
            "CROSS VALIDATION SCORE: 64.25%\n"
          ]
        }
      ]
    },
    {
      "cell_type": "markdown",
      "source": [
        "## **Startified K-fold Cross Validation**"
      ],
      "metadata": {
        "id": "XjPrvtWGDGoZ"
      }
    },
    {
      "cell_type": "code",
      "source": [
        "from sklearn.model_selection import cross_val_score\n",
        "from sklearn.model_selection import StratifiedKFold\n",
        "\n",
        "skfold = StratifiedKFold(n_splits=3)\n",
        "model_skfold = LogisticRegression()\n",
        "results_skfold = cross_val_score(model_skfold, x, y, cv=skfold)\n",
        "print(\"STRATIFIED K-FOLD SCORE: %.2f%%\" % (results_skfold.mean()*100.0))"
      ],
      "metadata": {
        "id": "-aAxWDdRDHJg",
        "colab": {
          "base_uri": "https://localhost:8080/"
        },
        "outputId": "a164d672-cbe3-47eb-b18a-ca24b2a6a448"
      },
      "execution_count": 20,
      "outputs": [
        {
          "output_type": "stream",
          "name": "stdout",
          "text": [
            "STRATIFIED K-FOLD SCORE: 64.50%\n"
          ]
        }
      ]
    },
    {
      "cell_type": "markdown",
      "source": [
        "## **CAP Validation**"
      ],
      "metadata": {
        "id": "Tsvv2hPAEw1E"
      }
    },
    {
      "cell_type": "code",
      "source": [
        "total = len(y_test)\n",
        "class_1_count = np.sum(y_test)\n",
        "print(class_1_count)\n",
        "class_0_count = total - class_1_count\n",
        "plt.plot([0, total], [0, class_1_count], c='r', linestyle = '--', label = 'Random Model')\n",
        "\n",
        "plt.plot([0, class_1_count, total],\n",
        "         [0, class_1_count, class_1_count],\n",
        "         c = 'grey',\n",
        "         linewidth = 2,\n",
        "         label = 'Perfect Model')\n",
        "\n",
        "probs = model.predict_proba(x_test)\n",
        "probs = probs[:, 1]\n",
        "model_y = [y for _, y in sorted(zip(probs, y_test), reverse = True)]\n",
        "y_values = np.append([0], np.cumsum(model_y))\n",
        "x_values = np.arange(0, total + 1)\n",
        "\n",
        "plt.plot(x_values,\n",
        "         y_values,\n",
        "         c = 'b',\n",
        "         label = 'LR Classifier',\n",
        "         linewidth = 4)\n",
        "\n",
        "index = int((50*total/100))\n",
        "\n",
        "#50% Vertical line from x-axis\n",
        "plt.plot([index, index], [0, y_values[index]], c = 'g', linestyle = '--')\n",
        "\n",
        "#Horizontal line to y-axis from prediction model\n",
        "plt.plot([0, index], [y_values[index], y_values[index]], c = 'g', linestyle = '--')\n",
        "\n",
        "class_1_observed = y_values[index] * 100 / max(y_values)\n",
        "plt.xlabel('Total Observations')\n",
        "plt.ylabel('Class 1 Observations')\n",
        "plt.title('Cumulative Accuracy Profile')\n",
        "plt.legend(loc = 'lower right')\n"
      ],
      "metadata": {
        "colab": {
          "base_uri": "https://localhost:8080/",
          "height": 508
        },
        "id": "Ot4K5YgYExXR",
        "outputId": "c0f07d3c-fdba-4a47-b098-68bc21377c97"
      },
      "execution_count": 21,
      "outputs": [
        {
          "output_type": "stream",
          "name": "stdout",
          "text": [
            "78\n"
          ]
        },
        {
          "output_type": "execute_result",
          "data": {
            "text/plain": [
              "<matplotlib.legend.Legend at 0x7d8f18492920>"
            ]
          },
          "metadata": {},
          "execution_count": 21
        },
        {
          "output_type": "display_data",
          "data": {
            "text/plain": [
              "<Figure size 640x480 with 1 Axes>"
            ],
            "image/png": "[encoded data removed]"
          },
          "metadata": {}
        }
      ]
    },
    {
      "cell_type": "markdown",
      "source": [
        "## **Manual testing of the Model**"
      ],
      "metadata": {
        "id": "NCMqnv-0qpTw"
      }
    },
    {
      "cell_type": "code",
      "source": [
        "age = int(input(\"Enter the Customer's Age: \"))\n",
        "salary = int(input(\"Enter the Customer's Salary: \"))\n",
        "x = [[age, salary]]\n",
        "result = sc.transform(x)\n",
        "result = model.predict(result)\n",
        "if result == 1:\n",
        "  print(\"Customer Will Buy\")\n",
        "else:\n",
        "  print(\"Customer Won't Buy\")\n"
      ],
      "metadata": {
        "id": "GwXvdjeMqo1F",
        "colab": {
          "base_uri": "https://localhost:8080/"
        },
        "outputId": "c9266a85-1eb2-4e20-cd1d-4af7171df40a"
      },
      "execution_count": 22,
      "outputs": [
        {
          "output_type": "stream",
          "name": "stdout",
          "text": [
            "Enter the Customer's Age: 40\n",
            "Enter the Customer's Salary: 40000\n",
            "Customer Won't Buy\n"
          ]
        }
      ]
    },
    {
      "cell_type": "markdown",
      "source": [
        "## **Validating Some ML Algorithm by its Accuracy-Model Score**"
      ],
      "metadata": {
        "id": "IWZQjoRipUzr"
      }
    },
    {
      "cell_type": "code",
      "source": [
        "from sklearn.discriminant_analysis import LinearDiscriminantAnalysis\n",
        "from sklearn.linear_model import LogisticRegression\n",
        "from sklearn.tree import DecisionTreeClassifier\n",
        "from sklearn.neighbors import KNeighborsClassifier\n",
        "from sklearn.naive_bayes import GaussianNB\n",
        "from sklearn.svm import SVC\n",
        "\n",
        "from sklearn.model_selection import cross_val_score\n",
        "from sklearn.model_selection import StratifiedKFold"
      ],
      "metadata": {
        "id": "GuMd3oZgqtMG"
      },
      "execution_count": 23,
      "outputs": []
    },
    {
      "cell_type": "code",
      "source": [
        "models = []\n",
        "models.append(('LDA', LinearDiscriminantAnalysis()))\n",
        "models.append(('LR', LogisticRegression(solver='liblinear', multi_class= 'ovr')))\n",
        "models.append(('KNN', KNeighborsClassifier()))\n",
        "models.append(('CART', DecisionTreeClassifier()))\n",
        "models.append(('NB', GaussianNB()))\n",
        "models.append(('SVM', SVC(gamma='auto')))\n",
        "print(models)\n"
      ],
      "metadata": {
        "colab": {
          "base_uri": "https://localhost:8080/"
        },
        "id": "YFPM2Dj1pVgg",
        "outputId": "00708afc-cd2d-42fc-ed14-16fadfb938b1"
      },
      "execution_count": 24,
      "outputs": [
        {
          "output_type": "stream",
          "name": "stdout",
          "text": [
            "[('LDA', LinearDiscriminantAnalysis()), ('LR', LogisticRegression(multi_class='ovr', solver='liblinear')), ('KNN', KNeighborsClassifier()), ('CART', DecisionTreeClassifier()), ('NB', GaussianNB()), ('SVM', SVC(gamma='auto'))]\n"
          ]
        }
      ]
    },
    {
      "cell_type": "code",
      "source": [
        "results = []\n",
        "names = []\n",
        "res = []\n",
        "\n",
        "#input and output\n",
        "x = dataset.iloc[: , :-1].values\n",
        "y = dataset.iloc[:, -1].values\n",
        "\n",
        "for name, model in models:\n",
        "  skfold = StratifiedKFold(n_splits=10)\n",
        "  cv_results = cross_val_score(model, x, y, cv=skfold, scoring='accuracy')\n",
        "  results.append(cv_results)\n",
        "  names.append(name)\n",
        "  res.append(cv_results.mean())\n",
        "  print('%s : %f' % (name, cv_results.mean()))\n",
        "\n",
        "plt.ylim(.500, .999)\n",
        "plt.bar(names, res, color = 'red', width = 0.6)\n",
        "\n",
        "plt.title(\"Algorithm Comparison\")\n",
        "plt.show()\n",
        "\n",
        "\n"
      ],
      "metadata": {
        "colab": {
          "base_uri": "https://localhost:8080/",
          "height": 561
        },
        "id": "8CRa3Zcxsw-H",
        "outputId": "6fb8a3c3-c4ed-4c00-dbd4-9d9e5e2a5140"
      },
      "execution_count": 28,
      "outputs": [
        {
          "output_type": "stream",
          "name": "stdout",
          "text": [
            "LDA : 0.825000\n",
            "LR : 0.642500\n",
            "KNN : 0.785000\n",
            "CART : 0.827500\n",
            "NB : 0.875000\n",
            "SVM : 0.682500\n"
          ]
        },
        {
          "output_type": "display_data",
          "data": {
            "text/plain": [
              "<Figure size 640x480 with 1 Axes>"
            ],
            "image/png": "[encoded data removed]"
          },
          "metadata": {}
        }
      ]
    }
  ]
}